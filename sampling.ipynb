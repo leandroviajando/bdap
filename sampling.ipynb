{
 "cells": [
  {
   "cell_type": "markdown",
   "metadata": {},
   "source": [
    "# Sampling\n",
    "\n",
    "1. Bernoulli Sampling: For each elephant, independently select it with a probability $p$ (which we can set to 0.3 for example). This is essentially flipping a biased coin for each elephant.\n",
    "2. Poisson Sampling: The Poisson sampling is based on the weight of the elephants. For each elephant, we draw a Poisson random variable with a mean proportional to its weight (scaled by some factor $\\lambda$).\n",
    "3. Reservoir Sampling: Similar to fixed proportion sampling, but it’s useful when you’re working with streaming data or when you don’t know the size of the population upfront.\n",
    "4. Fixed Proportion Sampling: Guarantees the selection of exactly a set proportion of the total population.\n"
   ]
  },
  {
   "cell_type": "code",
   "execution_count": 1,
   "metadata": {},
   "outputs": [
    {
     "name": "stdout",
     "output_type": "stream",
     "text": [
      "Sampled elephants using Bernoulli sampling: [3200, 2800, 3300, 3600]\n",
      "Sampled elephants using Poisson sampling: [3200, 2800, 3100, 3500, 2900, 2700, 3300, 3400, 3600]\n"
     ]
    }
   ],
   "source": [
    "import numpy as np\n",
    "\n",
    "elephant_weights = [3000, 3200, 2800, 3100, 3500, 2900, 2700, 3300, 3400, 3600]\n",
    "\n",
    "def bernoulli_sampling(elephants, p=0.3):\n",
    "    # Generate a Bernoulli random variable (0 or 1) for each elephant\n",
    "    selected = np.random.binomial(1, p, len(elephants))\n",
    "    # Select elephants with 1\n",
    "    sampled_elephants = [elephants[i] for i in range(len(elephants)) if selected[i] == 1]\n",
    "    return sampled_elephants\n",
    "\n",
    "def poisson_sampling(elephants, lambda_factor=1.0):\n",
    "    # Generate Poisson random variables for each elephant based on its weight\n",
    "    sampled_elephants = []\n",
    "    for weight in elephants:\n",
    "        count = np.random.poisson(lambda_factor * weight / 1000)  # Scaled by weight\n",
    "        if count > 0:\n",
    "            sampled_elephants.append(weight)\n",
    "    return sampled_elephants\n",
    "\n",
    "np.random.seed(42)  # For reproducibility\n",
    "\n",
    "bernoulli_sampled = bernoulli_sampling(elephant_weights, p=0.3)\n",
    "print(f\"Sampled elephants using Bernoulli sampling: {bernoulli_sampled}\")\n",
    "\n",
    "poisson_sampled = poisson_sampling(elephant_weights, lambda_factor=1.0)\n",
    "print(f\"Sampled elephants using Poisson sampling: {poisson_sampled}\")"
   ]
  },
  {
   "cell_type": "markdown",
   "metadata": {},
   "source": [
    "Reservoir sampling is a technique used to randomly select a fixed-size sample from a large or unknown-size population where it is impractical to store the entire dataset in memory. In this case, we’ll apply reservoir sampling to randomly select 3 elephants from the 10 available elephants.\n",
    "\n",
    "Here’s how reservoir sampling works in a high-level view:\n",
    "\n",
    "- Step 1: Initialize a reservoir with the first  k  elements (in our case,  k = 3 ).\n",
    "- Step 2: For each subsequent element (i.e., from index  k+1  to the end), randomly decide whether to include the element in the reservoir.\n",
    "  - With probability  k/i  (where  i  is the index of the element), replace one of the current elements in the reservoir.\n"
   ]
  },
  {
   "cell_type": "code",
   "execution_count": 2,
   "metadata": {},
   "outputs": [
    {
     "name": "stdout",
     "output_type": "stream",
     "text": [
      "Sampled elephants using reservoir sampling: [3500, 3200, 3600]\n"
     ]
    }
   ],
   "source": [
    "import random\n",
    "\n",
    "elephant_weights = [3000, 3200, 2800, 3100, 3500, 2900, 2700, 3300, 3400, 3600]\n",
    "\n",
    "def reservoir_sampling(elephants, k=3):\n",
    "    # Step 1: Fill the reservoir with the first k elephants\n",
    "    reservoir = elephants[:k]\n",
    "    \n",
    "    # Step 2: Process the remaining elephants\n",
    "    for i in range(k, len(elephants)):\n",
    "        # Generate a random index from 0 to i (inclusive)\n",
    "        j = random.randint(0, i)\n",
    "        # If the random index is within the reservoir range, replace the element\n",
    "        if j < k:\n",
    "            reservoir[j] = elephants[i]\n",
    "    \n",
    "    return reservoir\n",
    "\n",
    "random.seed(42)  # For reproducibility\n",
    "\n",
    "reservoir_sampled = reservoir_sampling(elephant_weights, k=3)\n",
    "print(f\"Sampled elephants using reservoir sampling: {reservoir_sampled}\")"
   ]
  },
  {
   "cell_type": "markdown",
   "metadata": {},
   "source": [
    "Fixed proportion sampling refers to selecting a specific proportion of elements from a dataset. For example, if you have 10 elephants and want to sample a fixed proportion (e.g., 30%) of them, you would select 3 elephants. The key here is that the number of elements to be sampled is determined by a fixed ratio relative to the total population size.\n",
    "\n",
    "Unlike Bernoulli sampling, where each element is independently selected with some probability, fixed proportion sampling guarantees that exactly  n \\times p  elements are selected, where  n  is the population size and  p  is the desired proportion.\n"
   ]
  },
  {
   "cell_type": "code",
   "execution_count": 3,
   "metadata": {},
   "outputs": [
    {
     "name": "stdout",
     "output_type": "stream",
     "text": [
      "Sampled elephants using fixed proportion sampling: [3200, 3000, 3500]\n"
     ]
    }
   ],
   "source": [
    "import random\n",
    "\n",
    "elephant_weights = [3000, 3200, 2800, 3100, 3500, 2900, 2700, 3300, 3400, 3600]\n",
    "\n",
    "def fixed_proportion_sampling(elephants, proportion=0.3):\n",
    "    # Calculate the number of elements to sample based on the given proportion\n",
    "    num_to_sample = int(len(elephants) * proportion)\n",
    "    \n",
    "    # Randomly sample the exact number of elements\n",
    "    sampled_elephants = random.sample(elephants, num_to_sample)\n",
    "    \n",
    "    return sampled_elephants\n",
    "\n",
    "random.seed(42)  # For reproducibility\n",
    "\n",
    "fixed_proportion_sampled = fixed_proportion_sampling(elephant_weights, proportion=0.3)\n",
    "print(f\"Sampled elephants using fixed proportion sampling: {fixed_proportion_sampled}\")"
   ]
  },
  {
   "cell_type": "markdown",
   "metadata": {},
   "source": [
    "Why Use Hash-Based Sampling?\n",
    "\n",
    "- Reproducibility: Given the same input and bucket configuration, the sampling will always yield the same result because the hash function is deterministic.\n",
    "- Efficient for Streaming: You don’t need to store all the items in memory; you can sample from a continuous stream without looking at all the data at once.\n",
    "- Scalable: Hashing can be done in constant time  O(1) , and the number of buckets can be adjusted to control the sample size.\n",
    "\n",
    "\n",
    "1. Hashing:\n",
    "\t- We use Python’s built-in hash() function to hash each elephant (or item in the stream).\n",
    "\t- The hash value is then divided by the number of buckets (num_buckets) to assign the item to a bucket using the modulus operator (%).\n",
    "2.\tSampling:\n",
    "\t- In both the non-streaming and streaming versions, we only select items that belong to the specified selected_bucket. This ensures that a deterministic subset of the population is selected based on the hash values.\n",
    "3.\tNon-Streaming (Batch):\n",
    "\t- The function processes the entire list of elephants at once, hashes each item, and selects those in the designated bucket.\n",
    "4.\tStreaming:\n",
    "\t- The streaming version processes the elephants one by one (as if they were arriving over time), making it ideal for situations where the full dataset can’t fit in memory, or you’re handling a continuous stream of data."
   ]
  },
  {
   "cell_type": "code",
   "execution_count": 4,
   "metadata": {},
   "outputs": [
    {
     "name": "stdout",
     "output_type": "stream",
     "text": [
      "Sampled elephants using hash bucket sampling (non-streaming): [3000, 3200, 2800, 3100, 3500, 2900, 2700, 3300, 3400, 3600]\n"
     ]
    }
   ],
   "source": [
    "import random\n",
    "\n",
    "# List of elephant weights\n",
    "elephant_weights = [3000, 3200, 2800, 3100, 3500, 2900, 2700, 3300, 3400, 3600]\n",
    "\n",
    "# Sampling using hash function (batch version)\n",
    "def hash_bucket_sampling(elephants, num_buckets=5, selected_bucket=0):\n",
    "    sampled_elephants = []\n",
    "    \n",
    "    # Hash each item and assign to buckets\n",
    "    for elephant in elephants:\n",
    "        # Use hash() to assign to a bucket\n",
    "        bucket = hash(elephant) % num_buckets\n",
    "        if bucket == selected_bucket:\n",
    "            sampled_elephants.append(elephant)\n",
    "    \n",
    "    return sampled_elephants\n",
    "\n",
    "# Example of using hash bucket sampling (non-streaming)\n",
    "random.seed(42)  # For reproducibility\n",
    "\n",
    "# Let's say we want to divide into 5 buckets and select bucket 0\n",
    "sampled_elephants = hash_bucket_sampling(elephant_weights, num_buckets=5, selected_bucket=0)\n",
    "print(f\"Sampled elephants using hash bucket sampling (non-streaming): {sampled_elephants}\")"
   ]
  },
  {
   "cell_type": "code",
   "execution_count": 5,
   "metadata": {},
   "outputs": [
    {
     "name": "stdout",
     "output_type": "stream",
     "text": [
      "Sampled elephants using hash bucket sampling (streaming): [3000, 3200, 2800, 3100, 3500, 2900, 2700, 3300, 3400, 3600]\n"
     ]
    }
   ],
   "source": [
    "# Streaming version of hash bucket sampling\n",
    "def hash_bucket_sampling_streaming(elephants_stream, num_buckets=5, selected_bucket=0):\n",
    "    sampled_elephants = []\n",
    "    \n",
    "    # Process each item one at a time\n",
    "    for elephant in elephants_stream:\n",
    "        # Hash the item and check if it belongs to the selected bucket\n",
    "        bucket = hash(elephant) % num_buckets\n",
    "        if bucket == selected_bucket:\n",
    "            sampled_elephants.append(elephant)\n",
    "    \n",
    "    return sampled_elephants\n",
    "\n",
    "# Example of using hash bucket sampling (streaming)\n",
    "elephant_stream = iter(elephant_weights)  # Simulate a stream using an iterator\n",
    "\n",
    "# In streaming mode, you process the stream as it arrives\n",
    "streaming_sampled_elephants = hash_bucket_sampling_streaming(elephant_stream, num_buckets=5, selected_bucket=0)\n",
    "print(f\"Sampled elephants using hash bucket sampling (streaming): {streaming_sampled_elephants}\")"
   ]
  }
 ],
 "metadata": {
  "kernelspec": {
   "display_name": ".venv",
   "language": "python",
   "name": "python3"
  },
  "language_info": {
   "codemirror_mode": {
    "name": "ipython",
    "version": 3
   },
   "file_extension": ".py",
   "mimetype": "text/x-python",
   "name": "python",
   "nbconvert_exporter": "python",
   "pygments_lexer": "ipython3",
   "version": "3.12.7"
  }
 },
 "nbformat": 4,
 "nbformat_minor": 2
}
