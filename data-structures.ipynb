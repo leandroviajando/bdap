{
 "cells": [
  {
   "cell_type": "markdown",
   "metadata": {},
   "source": [
    "# Data Structures\n",
    "\n",
    "Desirable characteristics:\n",
    "\n",
    "- quick and easy to add an element\n",
    "- able to delete an element\n",
    "- able to answer multiple queries\n",
    "- easy to merge together different queries\n",
    "\n",
    "- take very little space\n",
    "- be time efficient\n",
    "- provide guarantees on the quality of the answer\n",
    "\n",
    "Options:\n",
    "- deterministic approaches\n",
    "- hashing or randomised approaches"
   ]
  },
  {
   "cell_type": "markdown",
   "metadata": {},
   "source": [
    "The Flajolet-Martin (FM) algorithm is a probabilistic algorithm used to estimate the number of distinct elements in a data stream using hashing. It’s an efficient algorithm with low memory requirements, commonly used in streaming scenarios where exact counting isn’t feasible due to the size of the dataset.\n",
    "\n",
    "Key Idea Behind Flajolet-Martin:\n",
    "\n",
    "1. Hashing: Each element in the stream is hashed to a uniformly random number.\n",
    "2. Binary Representation: For each hashed value, we look at the position of the least significant 1-bit (also called the trailing zeroes).\n",
    "3. Estimate: The position of the least significant 1-bit gives us information about the number of distinct elements. The maximum number of trailing zeroes we observe gives an estimate of the number of distinct elements."
   ]
  },
  {
   "cell_type": "markdown",
   "metadata": {},
   "source": [
    "LogLog is an algorithm for estimating the number of distinct elements in a data stream, much like the Flajolet-Martin algorithm. It is a more refined version of the Flajolet-Martin approach and aims to provide more accurate estimates using less memory. LogLog and its variants (like HyperLogLog) are used in large-scale systems where counting distinct elements (cardinality estimation) is required in a memory-efficient manner.\n",
    "\n",
    "Key Concepts of LogLog:\n",
    "\n",
    "1. Hashing: Like Flajolet-Martin, LogLog hashes each element in the data stream to a uniformly random value.\n",
    "2. Binary Representation and Trailing Zeroes: The algorithm counts the number of trailing zeroes in the binary representation of the hashed value. The more trailing zeroes a hash has, the more likely it is that the stream contains a larger number of distinct elements.\n",
    "3. Multiple Buckets: LogLog divides the stream into several buckets (like splitting the hash space). Instead of keeping track of just one maximum number of trailing zeroes, it maintains multiple counters, one for each bucket.\n",
    "4. Logarithmic Summarization: The algorithm averages the results of the trailing zeroes from all buckets using a logarithmic formula, improving accuracy and reducing variance in the estimates."
   ]
  }
 ],
 "metadata": {
  "kernelspec": {
   "display_name": ".venv",
   "language": "python",
   "name": "python3"
  },
  "language_info": {
   "name": "python",
   "version": "3.12.6"
  }
 },
 "nbformat": 4,
 "nbformat_minor": 2
}
